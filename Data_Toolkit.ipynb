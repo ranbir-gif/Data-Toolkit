{
  "nbformat": 4,
  "nbformat_minor": 0,
  "metadata": {
    "colab": {
      "provenance": []
    },
    "kernelspec": {
      "name": "python3",
      "display_name": "Python 3"
    },
    "language_info": {
      "name": "python"
    }
  },
  "cells": [
    {
      "cell_type": "markdown",
      "source": [
        "# Data Toolkit Theory Questions"
      ],
      "metadata": {
        "id": "E7iaWjY59stA"
      }
    },
    {
      "cell_type": "markdown",
      "source": [
        "1. What is NumPy, and why is it widely used in Python?\n",
        "  - NumPy is a popular Python library used to work with numbers and arrays. It makes it easy to do math on large sets of data quickly. NumPy lets you create arrays (like lists, but faster), do calculations, and work with matrices. It is widely used because it is fast, easy to use, and works well with other libraries like pandas and matplotlib. Scientists, data analysts, and engineers use it a lot for things like data analysis, machine learning, and simulations. Simply put, NumPy helps you do math and data work more efficiently in Python.\n"
      ],
      "metadata": {
        "id": "iLwpII42-Mra"
      }
    },
    {
      "cell_type": "markdown",
      "source": [
        "2. How does broadcasting work in NumPy?\n",
        "  - Broadcasting in NumPy allows you to perform operations on arrays of different shapes and sizes without writing extra code. For example, you can add a small array to a bigger one, and NumPy will “stretch” the smaller array to match the bigger one automatically. This saves time and makes your code shorter and faster. Broadcasting works only when the shapes are compatible—usually when one of them is 1 or matches the size of the other. It’s like magic math that fits things together so you don’t have to loop through everything yourself.\n"
      ],
      "metadata": {
        "id": "1I2gznA1-kRt"
      }
    },
    {
      "cell_type": "markdown",
      "source": [
        "3. What is a Pandas DataFrame?\n",
        "  - A **Pandas DataFrame** is a special table in Python used to store and organize data. You can think of it like an Excel spreadsheet or a table in a database. It has rows and columns, where each column can hold different types of data like numbers, text, or dates. Pandas makes it easy to load, view, filter, and analyze data using simple commands. It’s widely used in data analysis and data science because it helps handle large datasets quickly and efficiently.\n"
      ],
      "metadata": {
        "id": "N45qZcHc_ilZ"
      }
    },
    {
      "cell_type": "markdown",
      "source": [
        "4. Explain the use of the groupby() method in Pandas.\n",
        "  - The groupby() method in Pandas is used to group data based on the values in one or more columns. After grouping, you can easily perform operations like sum, average, or count on each group. It’s helpful when you want to analyze data by category. For example, if you have a list of sales data for different cities, you can use groupby('City') to group the data by each city and then find the total sales for each one. This makes it easier to understand patterns and trends in your data.\n"
      ],
      "metadata": {
        "id": "uFb7Nh1B_1ZW"
      }
    },
    {
      "cell_type": "markdown",
      "source": [
        "5. Why is Seaborn preferred for statistical visualizations?\n",
        "  - Seaborn is preferred for statistical visualizations because it makes beautiful and easy-to-read charts with very little code. It is built on top of Matplotlib and works well with Pandas DataFrames. Seaborn has built-in functions to create charts like bar plots, box plots, and heatmaps that help you understand patterns and relationships in your data. It also adds color and style automatically, making graphs look better without much effort. This makes Seaborn a popular choice for beginners and data analysts who want quick and clean visual results.\n"
      ],
      "metadata": {
        "id": "nQ8SfkHcAS7-"
      }
    },
    {
      "cell_type": "markdown",
      "source": [
        "6. What are the differences between NumPy arrays and Python lists?\n",
        "  - NumPy arrays and Python lists both store collections of items, but they are different. NumPy arrays are faster and use less memory than Python lists, especially for large amounts of data. They are also better for doing math, like adding or multiplying all elements, because NumPy can do these operations directly. Python lists can hold different types of data (like numbers and strings), but NumPy arrays usually hold just one type of data. If you are working with numbers or doing scientific work, NumPy arrays are better to use.\n"
      ],
      "metadata": {
        "id": "VuNAYd0LArVK"
      }
    },
    {
      "cell_type": "markdown",
      "source": [
        "7. What is a heatmap, and when should it be used?\n",
        "  - A heatmap is a type of chart that shows data using different colors. Each color represents a value, so you can quickly see patterns, high values, or low values in the data. It looks like a table where each cell is colored based on the number it contains. Heatmaps are useful when you want to compare lots of numbers at once, like showing student scores, sales by region, or relationships in a data set. They make it easy to spot trends or differences without reading all the numbers.\n"
      ],
      "metadata": {
        "id": "3JWIwUZTA-JN"
      }
    },
    {
      "cell_type": "markdown",
      "source": [
        "8. What does the term “vectorized operation” mean in NumPy?\n",
        "  - In NumPy, a “vectorized operation” means doing math on whole arrays (lists of numbers) without using loops. Instead of going through each number one by one, NumPy can do the operation on all items at once. For example, if you want to add 2 to every number in an array, you can just write array + 2, and NumPy adds 2 to every element automatically. This makes your code shorter, easier to read, and much faster, especially with large amounts of data.\n"
      ],
      "metadata": {
        "id": "TP7wj33EBRRB"
      }
    },
    {
      "cell_type": "markdown",
      "source": [
        "9. How does Matplotlib differ from Plotly?\n",
        "  - Matplotlib and Plotly are both tools used to make charts and graphs in Python, but they are a bit different. Matplotlib is great for making simple, static (non-interactive) graphs like line charts or bar charts. It's easy to use and works well for basic visualizations. Plotly, on the other hand, is used to make interactive charts where you can zoom, hover, and click on parts of the graph. Plotly is better for web apps or when you want to explore data more easily. So, use Matplotlib for quick plots, and Plotly for more advanced, interactive ones."
      ],
      "metadata": {
        "id": "AK71GAr8B7Eh"
      }
    },
    {
      "cell_type": "markdown",
      "source": [
        "10. What is the significance of hierarchical indexing in Pandas?\n",
        "  - Hierarchical indexing in Pandas lets you use more than one level of labels (indexes) to organize your data. This means you can label rows or columns with multiple keys, like grouping data by \"City\" and then by \"Year.\" It helps you work with complex or multi-level data more easily and makes it simple to select, filter, or reshape data. Think of it like organizing files in folders inside folders. Hierarchical indexing helps you keep things neat and allows powerful data analysis with just a few lines of code.\n"
      ],
      "metadata": {
        "id": "sx_cLbvdCRV3"
      }
    },
    {
      "cell_type": "markdown",
      "source": [
        "11. What is the role of Seaborn’s pairplot() function?\n",
        "  - Seaborn’s pairplot() function is used to quickly create plots that show the relationships between all pairs of columns in a dataset. It’s especially helpful when you want to see patterns, trends, or correlations in a table of numeric data. For each pair of columns, it draws a scatter plot, and on the diagonal, it shows histograms or other distributions. This gives a quick, visual summary of how the data behaves and helps in exploring the dataset before doing deeper analysis or modeling. It’s very useful for beginners to understand their data better.\n"
      ],
      "metadata": {
        "id": "eIrS8nU4Ci3R"
      }
    },
    {
      "cell_type": "markdown",
      "source": [
        "12. What is the purpose of the describe() function in Pandas?\n",
        "  - The describe() function in Pandas gives you a quick summary of the most important statistics for each column in a DataFrame. It shows details like count, mean (average), minimum, maximum, and standard deviation, as well as the 25%, 50%, and 75% percentiles. This helps you understand how the values are spread out and if there are any patterns or outliers. It's very useful when you first start exploring a dataset, especially with numbers. It works best on numerical data and helps you get a basic idea of what the data looks like without doing calculations yourself.\n"
      ],
      "metadata": {
        "id": "bWl0B-UUC13y"
      }
    },
    {
      "cell_type": "markdown",
      "source": [
        "13. Why is handling missing data important in Pandas?\n",
        "  - Handling missing data in Pandas is important because missing values can cause errors or give wrong results when analyzing data. If you don't deal with them, calculations like averages or totals might be incorrect. Pandas provides easy ways to find, remove, or fill missing data so your results are more accurate and reliable. For example, you can fill missing values with a default number or remove rows with missing data. This step helps clean the data and makes sure your analysis or model works properly without unexpected problems."
      ],
      "metadata": {
        "id": "yk_2BJrtDHA0"
      }
    },
    {
      "cell_type": "markdown",
      "source": [
        "14. What are the benefits of using Plotly for data visualization?\n",
        "  - Plotly is great for data visualization because it makes interactive and good-looking charts easily. Unlike some other tools, you can zoom, hover, and click on parts of the graph to explore your data better. It's beginner-friendly and works well with Jupyter Notebooks, making it useful for students and professionals. Plotly supports many types of charts like bar, line, pie, and 3D plots. It also works in web browsers, so you can share your charts online. Overall, it helps you understand and present your data in a fun and interactive way.\n"
      ],
      "metadata": {
        "id": "YjiwzrgADYp6"
      }
    },
    {
      "cell_type": "markdown",
      "source": [
        "15. How does NumPy handle multidimensional arrays?\n",
        "  - NumPy handles multidimensional arrays using a special object called ndarray. This allows you to store and work with data in 1D (like a list), 2D (like a table), or even more dimensions (like cubes or higher). You can easily do math on entire rows, columns, or the whole array without using loops. NumPy uses shapes and indexes to manage data, so you can quickly access or change values. This makes it very fast and useful for tasks like data analysis, image processing, and scientific computing.\n"
      ],
      "metadata": {
        "id": "DJFva1W1DlDC"
      }
    },
    {
      "cell_type": "markdown",
      "source": [
        "16. What is the role of Bokeh in data visualization?\n",
        "  - Bokeh is a Python library used to create interactive and visually appealing data visualizations for web browsers. It helps turn data into charts, graphs, and dashboards that users can explore by zooming, panning, and hovering. Unlike some other libraries, Bokeh focuses on making plots that work well online. You can build simple or complex visuals that update in real-time. It's great for showing trends, patterns, or live data in a way that’s easy to understand and use. Bokeh is beginner-friendly and works well with pandas and NumPy.\n"
      ],
      "metadata": {
        "id": "fnbuq_MHYYMm"
      }
    },
    {
      "cell_type": "markdown",
      "source": [
        "17. Explain the difference between apply() and map() in Pandas.\n",
        "  - In Pandas, map() and apply() are used to change or process data, but they are used differently.\n",
        "\n",
        "  map() is mainly used with a single column (a Series) to change values using a function, dictionary, or another Series. For example, you can replace or modify values in one column easily.\n",
        "\n",
        "  apply() is more powerful and can be used on both Series and DataFrames. It lets you apply a custom function to each row or column, depending on how you use it.\n",
        "\n",
        "  In short, use map() for simple changes to one column, and apply() for more complex operations.\n"
      ],
      "metadata": {
        "id": "tiVJuY3kYuek"
      }
    },
    {
      "cell_type": "markdown",
      "source": [
        "18. What are some advanced features of NumPy?\n",
        "  - NumPy has some advanced features that make it very powerful. It supports broadcasting, which lets you do math with arrays of different shapes. It has vectorized operations that make calculations faster by avoiding loops. You can use fancy indexing to select data in smart ways. It also has masked arrays to handle missing data, and universal functions (ufuncs) for fast element-wise operations. NumPy can work with multi-dimensional arrays, and it connects easily with other libraries like Pandas and SciPy. These features help you write fast, clean, and efficient code for data science and scientific computing.\n"
      ],
      "metadata": {
        "id": "I0JW4EvgZVGE"
      }
    },
    {
      "cell_type": "markdown",
      "source": [
        "19. How does Pandas simplify time series analysis?\n",
        "  - Pandas makes time series analysis easier by giving tools to work with dates and times. It has special DateTime objects that let you sort, filter, and group data by time. You can resample data to change the time frequency (like daily to monthly), fill in missing dates, and shift or roll data forward or backward. Pandas also makes it simple to plot time series and do things like moving averages. All these features help you analyze trends over time without writing complicated code.\n"
      ],
      "metadata": {
        "id": "M8JKpXdqZyD0"
      }
    },
    {
      "cell_type": "markdown",
      "source": [
        "20. What is the role of a pivot table in Pandas?\n",
        "  - A pivot table in Pandas helps you quickly summarize and organize data. It lets you group data by one or more columns and then apply functions like sum, mean, or count to see useful patterns. For example, you can use a pivot table to see the total sales per month for each product. It turns large, messy data into a clear table that’s easy to understand. Pivot tables are very helpful when analyzing data from spreadsheets or reports.\n"
      ],
      "metadata": {
        "id": "Nm80LGtuaT7B"
      }
    },
    {
      "cell_type": "markdown",
      "source": [
        "21. Why is NumPy’s array slicing faster than Python’s list slicing?\n",
        "  - NumPy’s array slicing is faster than Python’s list slicing because NumPy uses fixed-size arrays stored in memory more efficiently. It is built on C, which makes operations like slicing and looping much quicker. When you slice a NumPy array, it doesn’t copy the data, but just creates a new view of the same data. On the other hand, slicing a Python list creates a new list with copied values, which takes more time and memory. This is why NumPy is better for handling large amounts of numerical data quickly.\n"
      ],
      "metadata": {
        "id": "jKfpcP64axgY"
      }
    },
    {
      "cell_type": "markdown",
      "source": [
        "22. What are some common use cases for Seaborn?\n",
        "  - Seaborn is commonly used to make beautiful and informative charts easily. Some common uses include making bar plots, line charts, scatter plots, and histograms to show patterns in data. It’s also great for heatmaps, which help you see relationships between values. Seaborn is often used to explore relationships between variables, check for missing data, and understand distributions in a dataset. It’s very useful in data analysis and machine learning because it helps you understand the data visually before doing more advanced work.\n"
      ],
      "metadata": {
        "id": "h7wyuxzBcqqH"
      }
    },
    {
      "cell_type": "code",
      "execution_count": 1,
      "metadata": {
        "colab": {
          "base_uri": "https://localhost:8080/"
        },
        "id": "z_P-OS9D9kI4",
        "outputId": "73f3135e-1303-45fe-fab3-27eaa6594fd4"
      },
      "outputs": [
        {
          "output_type": "stream",
          "name": "stdout",
          "text": [
            "2D Array:\n",
            "[[1 2 3]\n",
            " [4 5 6]\n",
            " [7 8 9]]\n",
            "\n",
            "Sum of each row:\n",
            "[ 6 15 24]\n"
          ]
        }
      ],
      "source": [
        "# 1. How do you create a 2D NumPy array and calculate the sum of each row?\n",
        "\n",
        "import numpy as np\n",
        "\n",
        "# Create a 2D NumPy array\n",
        "array_2d = np.array([[1, 2, 3],\n",
        "                     [4, 5, 6],\n",
        "                     [7, 8, 9]])\n",
        "\n",
        "# Calculate the sum of each row\n",
        "row_sums = np.sum(array_2d, axis=1)\n",
        "\n",
        "# Print the result\n",
        "print(\"2D Array:\")\n",
        "print(array_2d)\n",
        "\n",
        "print(\"\\nSum of each row:\")\n",
        "print(row_sums)"
      ]
    },
    {
      "cell_type": "code",
      "source": [
        "# 2. Write a Pandas script to find the mean of a specific column in a DataFrame.\n",
        "\n",
        "import pandas as pd\n",
        "\n",
        "# Sample DataFrame\n",
        "data = {\n",
        "    'Name': ['Alice', 'Bob', 'Charlie', 'David'],\n",
        "    'Age': [25, 30, 35, 40],\n",
        "    'Score': [85, 90, 88, 92]\n",
        "}\n",
        "\n",
        "df = pd.DataFrame(data)\n",
        "\n",
        "# Find the mean of the 'Score' column\n",
        "mean_score = df['Score'].mean()\n",
        "\n",
        "# Print the mean\n",
        "print(\"Mean Score:\", mean_score)"
      ],
      "metadata": {
        "colab": {
          "base_uri": "https://localhost:8080/"
        },
        "id": "7_nU5OHuysjU",
        "outputId": "64a48679-807b-4a88-b524-2fe5f9ae7966"
      },
      "execution_count": 2,
      "outputs": [
        {
          "output_type": "stream",
          "name": "stdout",
          "text": [
            "Mean Score: 88.75\n"
          ]
        }
      ]
    },
    {
      "cell_type": "code",
      "source": [
        "# 3. Create a scatter plot using Matplotlib.\n",
        "\n",
        "import matplotlib.pyplot as plt\n",
        "\n",
        "# Sample data\n",
        "x = [1, 2, 3, 4, 5]\n",
        "y = [5, 7, 4, 6, 8]\n",
        "\n",
        "# Create scatter plot\n",
        "plt.scatter(x, y, color='blue', marker='o')\n",
        "\n",
        "# Add titles and labels\n",
        "plt.title('Simple Scatter Plot')\n",
        "plt.xlabel('X Values')\n",
        "plt.ylabel('Y Values')\n",
        "\n",
        "# Show the plot\n",
        "plt.show()"
      ],
      "metadata": {
        "colab": {
          "base_uri": "https://localhost:8080/",
          "height": 472
        },
        "id": "SgDnf9sFy43M",
        "outputId": "ec8cab4d-9549-437f-9574-edb297677493"
      },
      "execution_count": 3,
      "outputs": [
        {
          "output_type": "display_data",
          "data": {
            "text/plain": [
              "<Figure size 640x480 with 1 Axes>"
            ],
            "image/png": "[encoded data removed]"
          },
          "metadata": {}
        }
      ]
    },
    {
      "cell_type": "code",
      "source": [
        "# 4. How do you calculate the correlation matrix using Seaborn and visualize it with a heatmap?\n",
        "\n",
        "import pandas as pd\n",
        "import seaborn as sns\n",
        "import matplotlib.pyplot as plt\n",
        "\n",
        "# Sample data\n",
        "data = {\n",
        "    'Math': [85, 90, 78, 92, 88],\n",
        "    'Science': [89, 94, 75, 95, 90],\n",
        "    'English': [76, 85, 80, 70, 78]\n",
        "}\n",
        "\n",
        "# Create DataFrame\n",
        "df = pd.DataFrame(data)\n",
        "\n",
        "# Step 1: Calculate correlation matrix\n",
        "correlation_matrix = df.corr()\n",
        "\n",
        "# Step 2: Plot heatmap\n",
        "sns.heatmap(correlation_matrix, annot=True, cmap='coolwarm')\n",
        "\n",
        "# Show the plot\n",
        "plt.title(\"Correlation Matrix Heatmap\")\n",
        "plt.show()"
      ],
      "metadata": {
        "colab": {
          "base_uri": "https://localhost:8080/",
          "height": 452
        },
        "id": "vpvBsK7hzCwa",
        "outputId": "ad59b13f-c883-4c2e-cc4f-aeb5d371d0ea"
      },
      "execution_count": 4,
      "outputs": [
        {
          "output_type": "display_data",
          "data": {
            "text/plain": [
              "<Figure size 640x480 with 2 Axes>"
            ],
            "image/png": "[encoded data removed]"
          },
          "metadata": {}
        }
      ]
    },
    {
      "cell_type": "code",
      "source": [
        "# 5. Generate a bar plot using Plotly.\n",
        "\n",
        "import plotly.graph_objects as go\n",
        "\n",
        "# Sample data\n",
        "fruits = ['Apples', 'Bananas', 'Cherries', 'Dates']\n",
        "quantities = [30, 20, 25, 15]\n",
        "\n",
        "# Create bar chart\n",
        "fig = go.Figure(data=[go.Bar(x=fruits, y=quantities)])\n",
        "\n",
        "# Add titles\n",
        "fig.update_layout(\n",
        "    title='Fruit Quantities',\n",
        "    xaxis_title='Fruit',\n",
        "    yaxis_title='Quantity'\n",
        ")\n",
        "\n",
        "# Show the plot\n",
        "fig.show()"
      ],
      "metadata": {
        "colab": {
          "base_uri": "https://localhost:8080/",
          "height": 542
        },
        "id": "zZAVlnyJzZp6",
        "outputId": "d884e408-312f-4d9a-b31f-3a72ee0c16f8"
      },
      "execution_count": 5,
      "outputs": [
        {
          "output_type": "display_data",
          "data": {
            "text/html": [
              "<html>\n",
              "<head><meta charset=\"utf-8\" /></head>\n",
              "<body>\n",
              "    <div>            <script src=\"https://cdnjs.cloudflare.com/ajax/libs/mathjax/2.7.5/MathJax.js?config=TeX-AMS-MML_SVG\"></script><script type=\"text/javascript\">if (window.MathJax && window.MathJax.Hub && window.MathJax.Hub.Config) {window.MathJax.Hub.Config({SVG: {font: \"STIX-Web\"}});}</script>                <script type=\"text/javascript\">window.PlotlyConfig = {MathJaxConfig: 'local'};</script>\n",
              "        <script charset=\"utf-8\" src=\"https://cdn.plot.ly/plotly-2.35.2.min.js\"></script>                <div id=\"da33abd5-0d9a-4b5c-86be-1e4e365bca5f\" class=\"plotly-graph-div\" style=\"height:525px; width:100%;\"></div>            <script type=\"text/javascript\">                                    window.PLOTLYENV=window.PLOTLYENV || {};                                    if (document.getElementById(\"da33abd5-0d9a-4b5c-86be-1e4e365bca5f\")) {                    Plotly.newPlot(                        \"da33abd5-0d9a-4b5c-86be-1e4e365bca5f\",                        [{\"x\":[\"Apples\",\"Bananas\",\"Cherries\",\"Dates\"],\"y\":[30,20,25,15],\"type\":\"bar\"}],                        {\"template\":{\"data\":{\"histogram2dcontour\":[{\"type\":\"histogram2dcontour\",\"colorbar\":{\"outlinewidth\":0,\"ticks\":\"\"},\"colorscale\":[[0.0,\"#0d0887\"],[0.1111111111111111,\"#46039f\"],[0.2222222222222222,\"#7201a8\"],[0.3333333333333333,\"#9c179e\"],[0.4444444444444444,\"#bd3786\"],[0.5555555555555556,\"#d8576b\"],[0.6666666666666666,\"#ed7953\"],[0.7777777777777778,\"#fb9f3a\"],[0.8888888888888888,\"#fdca26\"],[1.0,\"#f0f921\"]]}],\"choropleth\":[{\"type\":\"choropleth\",\"colorbar\":{\"outlinewidth\":0,\"ticks\":\"\"}}],\"histogram2d\":[{\"type\":\"histogram2d\",\"colorbar\":{\"outlinewidth\":0,\"ticks\":\"\"},\"colorscale\":[[0.0,\"#0d0887\"],[0.1111111111111111,\"#46039f\"],[0.2222222222222222,\"#7201a8\"],[0.3333333333333333,\"#9c179e\"],[0.4444444444444444,\"#bd3786\"],[0.5555555555555556,\"#d8576b\"],[0.6666666666666666,\"#ed7953\"],[0.7777777777777778,\"#fb9f3a\"],[0.8888888888888888,\"#fdca26\"],[1.0,\"#f0f921\"]]}],\"heatmap\":[{\"type\":\"heatmap\",\"colorbar\":{\"outlinewidth\":0,\"ticks\":\"\"},\"colorscale\":[[0.0,\"#0d0887\"],[0.1111111111111111,\"#46039f\"],[0.2222222222222222,\"#7201a8\"],[0.3333333333333333,\"#9c179e\"],[0.4444444444444444,\"#bd3786\"],[0.5555555555555556,\"#d8576b\"],[0.6666666666666666,\"#ed7953\"],[0.7777777777777778,\"#fb9f3a\"],[0.8888888888888888,\"#fdca26\"],[1.0,\"#f0f921\"]]}],\"heatmapgl\":[{\"type\":\"heatmapgl\",\"colorbar\":{\"outlinewidth\":0,\"ticks\":\"\"},\"colorscale\":[[0.0,\"#0d0887\"],[0.1111111111111111,\"#46039f\"],[0.2222222222222222,\"#7201a8\"],[0.3333333333333333,\"#9c179e\"],[0.4444444444444444,\"#bd3786\"],[0.5555555555555556,\"#d8576b\"],[0.6666666666666666,\"#ed7953\"],[0.7777777777777778,\"#fb9f3a\"],[0.8888888888888888,\"#fdca26\"],[1.0,\"#f0f921\"]]}],\"contourcarpet\":[{\"type\":\"contourcarpet\",\"colorbar\":{\"outlinewidth\":0,\"ticks\":\"\"}}],\"contour\":[{\"type\":\"contour\",\"colorbar\":{\"outlinewidth\":0,\"ticks\":\"\"},\"colorscale\":[[0.0,\"#0d0887\"],[0.1111111111111111,\"#46039f\"],[0.2222222222222222,\"#7201a8\"],[0.3333333333333333,\"#9c179e\"],[0.4444444444444444,\"#bd3786\"],[0.5555555555555556,\"#d8576b\"],[0.6666666666666666,\"#ed7953\"],[0.7777777777777778,\"#fb9f3a\"],[0.8888888888888888,\"#fdca26\"],[1.0,\"#f0f921\"]]}],\"surface\":[{\"type\":\"surface\",\"colorbar\":{\"outlinewidth\":0,\"ticks\":\"\"},\"colorscale\":[[0.0,\"#0d0887\"],[0.1111111111111111,\"#46039f\"],[0.2222222222222222,\"#7201a8\"],[0.3333333333333333,\"#9c179e\"],[0.4444444444444444,\"#bd3786\"],[0.5555555555555556,\"#d8576b\"],[0.6666666666666666,\"#ed7953\"],[0.7777777777777778,\"#fb9f3a\"],[0.8888888888888888,\"#fdca26\"],[1.0,\"#f0f921\"]]}],\"mesh3d\":[{\"type\":\"mesh3d\",\"colorbar\":{\"outlinewidth\":0,\"ticks\":\"\"}}],\"scatter\":[{\"fillpattern\":{\"fillmode\":\"overlay\",\"size\":10,\"solidity\":0.2},\"type\":\"scatter\"}],\"parcoords\":[{\"type\":\"parcoords\",\"line\":{\"colorbar\":{\"outlinewidth\":0,\"ticks\":\"\"}}}],\"scatterpolargl\":[{\"type\":\"scatterpolargl\",\"marker\":{\"colorbar\":{\"outlinewidth\":0,\"ticks\":\"\"}}}],\"bar\":[{\"error_x\":{\"color\":\"#2a3f5f\"},\"error_y\":{\"color\":\"#2a3f5f\"},\"marker\":{\"line\":{\"color\":\"#E5ECF6\",\"width\":0.5},\"pattern\":{\"fillmode\":\"overlay\",\"size\":10,\"solidity\":0.2}},\"type\":\"bar\"}],\"scattergeo\":[{\"type\":\"scattergeo\",\"marker\":{\"colorbar\":{\"outlinewidth\":0,\"ticks\":\"\"}}}],\"scatterpolar\":[{\"type\":\"scatterpolar\",\"marker\":{\"colorbar\":{\"outlinewidth\":0,\"ticks\":\"\"}}}],\"histogram\":[{\"marker\":{\"pattern\":{\"fillmode\":\"overlay\",\"size\":10,\"solidity\":0.2}},\"type\":\"histogram\"}],\"scattergl\":[{\"type\":\"scattergl\",\"marker\":{\"colorbar\":{\"outlinewidth\":0,\"ticks\":\"\"}}}],\"scatter3d\":[{\"type\":\"scatter3d\",\"line\":{\"colorbar\":{\"outlinewidth\":0,\"ticks\":\"\"}},\"marker\":{\"colorbar\":{\"outlinewidth\":0,\"ticks\":\"\"}}}],\"scattermapbox\":[{\"type\":\"scattermapbox\",\"marker\":{\"colorbar\":{\"outlinewidth\":0,\"ticks\":\"\"}}}],\"scatterternary\":[{\"type\":\"scatterternary\",\"marker\":{\"colorbar\":{\"outlinewidth\":0,\"ticks\":\"\"}}}],\"scattercarpet\":[{\"type\":\"scattercarpet\",\"marker\":{\"colorbar\":{\"outlinewidth\":0,\"ticks\":\"\"}}}],\"carpet\":[{\"aaxis\":{\"endlinecolor\":\"#2a3f5f\",\"gridcolor\":\"white\",\"linecolor\":\"white\",\"minorgridcolor\":\"white\",\"startlinecolor\":\"#2a3f5f\"},\"baxis\":{\"endlinecolor\":\"#2a3f5f\",\"gridcolor\":\"white\",\"linecolor\":\"white\",\"minorgridcolor\":\"white\",\"startlinecolor\":\"#2a3f5f\"},\"type\":\"carpet\"}],\"table\":[{\"cells\":{\"fill\":{\"color\":\"#EBF0F8\"},\"line\":{\"color\":\"white\"}},\"header\":{\"fill\":{\"color\":\"#C8D4E3\"},\"line\":{\"color\":\"white\"}},\"type\":\"table\"}],\"barpolar\":[{\"marker\":{\"line\":{\"color\":\"#E5ECF6\",\"width\":0.5},\"pattern\":{\"fillmode\":\"overlay\",\"size\":10,\"solidity\":0.2}},\"type\":\"barpolar\"}],\"pie\":[{\"automargin\":true,\"type\":\"pie\"}]},\"layout\":{\"autotypenumbers\":\"strict\",\"colorway\":[\"#636efa\",\"#EF553B\",\"#00cc96\",\"#ab63fa\",\"#FFA15A\",\"#19d3f3\",\"#FF6692\",\"#B6E880\",\"#FF97FF\",\"#FECB52\"],\"font\":{\"color\":\"#2a3f5f\"},\"hovermode\":\"closest\",\"hoverlabel\":{\"align\":\"left\"},\"paper_bgcolor\":\"white\",\"plot_bgcolor\":\"#E5ECF6\",\"polar\":{\"bgcolor\":\"#E5ECF6\",\"angularaxis\":{\"gridcolor\":\"white\",\"linecolor\":\"white\",\"ticks\":\"\"},\"radialaxis\":{\"gridcolor\":\"white\",\"linecolor\":\"white\",\"ticks\":\"\"}},\"ternary\":{\"bgcolor\":\"#E5ECF6\",\"aaxis\":{\"gridcolor\":\"white\",\"linecolor\":\"white\",\"ticks\":\"\"},\"baxis\":{\"gridcolor\":\"white\",\"linecolor\":\"white\",\"ticks\":\"\"},\"caxis\":{\"gridcolor\":\"white\",\"linecolor\":\"white\",\"ticks\":\"\"}},\"coloraxis\":{\"colorbar\":{\"outlinewidth\":0,\"ticks\":\"\"}},\"colorscale\":{\"sequential\":[[0.0,\"#0d0887\"],[0.1111111111111111,\"#46039f\"],[0.2222222222222222,\"#7201a8\"],[0.3333333333333333,\"#9c179e\"],[0.4444444444444444,\"#bd3786\"],[0.5555555555555556,\"#d8576b\"],[0.6666666666666666,\"#ed7953\"],[0.7777777777777778,\"#fb9f3a\"],[0.8888888888888888,\"#fdca26\"],[1.0,\"#f0f921\"]],\"sequentialminus\":[[0.0,\"#0d0887\"],[0.1111111111111111,\"#46039f\"],[0.2222222222222222,\"#7201a8\"],[0.3333333333333333,\"#9c179e\"],[0.4444444444444444,\"#bd3786\"],[0.5555555555555556,\"#d8576b\"],[0.6666666666666666,\"#ed7953\"],[0.7777777777777778,\"#fb9f3a\"],[0.8888888888888888,\"#fdca26\"],[1.0,\"#f0f921\"]],\"diverging\":[[0,\"#8e0152\"],[0.1,\"#c51b7d\"],[0.2,\"#de77ae\"],[0.3,\"#f1b6da\"],[0.4,\"#fde0ef\"],[0.5,\"#f7f7f7\"],[0.6,\"#e6f5d0\"],[0.7,\"#b8e186\"],[0.8,\"#7fbc41\"],[0.9,\"#4d9221\"],[1,\"#276419\"]]},\"xaxis\":{\"gridcolor\":\"white\",\"linecolor\":\"white\",\"ticks\":\"\",\"title\":{\"standoff\":15},\"zerolinecolor\":\"white\",\"automargin\":true,\"zerolinewidth\":2},\"yaxis\":{\"gridcolor\":\"white\",\"linecolor\":\"white\",\"ticks\":\"\",\"title\":{\"standoff\":15},\"zerolinecolor\":\"white\",\"automargin\":true,\"zerolinewidth\":2},\"scene\":{\"xaxis\":{\"backgroundcolor\":\"#E5ECF6\",\"gridcolor\":\"white\",\"linecolor\":\"white\",\"showbackground\":true,\"ticks\":\"\",\"zerolinecolor\":\"white\",\"gridwidth\":2},\"yaxis\":{\"backgroundcolor\":\"#E5ECF6\",\"gridcolor\":\"white\",\"linecolor\":\"white\",\"showbackground\":true,\"ticks\":\"\",\"zerolinecolor\":\"white\",\"gridwidth\":2},\"zaxis\":{\"backgroundcolor\":\"#E5ECF6\",\"gridcolor\":\"white\",\"linecolor\":\"white\",\"showbackground\":true,\"ticks\":\"\",\"zerolinecolor\":\"white\",\"gridwidth\":2}},\"shapedefaults\":{\"line\":{\"color\":\"#2a3f5f\"}},\"annotationdefaults\":{\"arrowcolor\":\"#2a3f5f\",\"arrowhead\":0,\"arrowwidth\":1},\"geo\":{\"bgcolor\":\"white\",\"landcolor\":\"#E5ECF6\",\"subunitcolor\":\"white\",\"showland\":true,\"showlakes\":true,\"lakecolor\":\"white\"},\"title\":{\"x\":0.05},\"mapbox\":{\"style\":\"light\"}}},\"title\":{\"text\":\"Fruit Quantities\"},\"xaxis\":{\"title\":{\"text\":\"Fruit\"}},\"yaxis\":{\"title\":{\"text\":\"Quantity\"}}},                        {\"responsive\": true}                    ).then(function(){\n",
              "                            \n",
              "var gd = document.getElementById('da33abd5-0d9a-4b5c-86be-1e4e365bca5f');\n",
              "var x = new MutationObserver(function (mutations, observer) {{\n",
              "        var display = window.getComputedStyle(gd).display;\n",
              "        if (!display || display === 'none') {{\n",
              "            console.log([gd, 'removed!']);\n",
              "            Plotly.purge(gd);\n",
              "            observer.disconnect();\n",
              "        }}\n",
              "}});\n",
              "\n",
              "// Listen for the removal of the full notebook cells\n",
              "var notebookContainer = gd.closest('#notebook-container');\n",
              "if (notebookContainer) {{\n",
              "    x.observe(notebookContainer, {childList: true});\n",
              "}}\n",
              "\n",
              "// Listen for the clearing of the current output cell\n",
              "var outputEl = gd.closest('.output');\n",
              "if (outputEl) {{\n",
              "    x.observe(outputEl, {childList: true});\n",
              "}}\n",
              "\n",
              "                        })                };                            </script>        </div>\n",
              "</body>\n",
              "</html>"
            ]
          },
          "metadata": {}
        }
      ]
    },
    {
      "cell_type": "code",
      "source": [
        "# 6. Create a DataFrame and add a new column based on an existing column.\n",
        "\n",
        "import pandas as pd\n",
        "\n",
        "# Create a DataFrame\n",
        "data = {\n",
        "    'Name': ['Alice', 'Bob', 'Charlie'],\n",
        "    'Score': [85, 90, 78]\n",
        "}\n",
        "\n",
        "df = pd.DataFrame(data)\n",
        "\n",
        "# Add a new column 'Result' based on the 'Score' column\n",
        "df['Result'] = df['Score'].apply(lambda x: 'Pass' if x >= 80 else 'Fail')\n",
        "\n",
        "# Display the updated DataFrame\n",
        "print(df)"
      ],
      "metadata": {
        "colab": {
          "base_uri": "https://localhost:8080/"
        },
        "id": "RidK9d7KzkPk",
        "outputId": "b7e9df8f-8127-4268-f4dc-d819d3032933"
      },
      "execution_count": 6,
      "outputs": [
        {
          "output_type": "stream",
          "name": "stdout",
          "text": [
            "      Name  Score Result\n",
            "0    Alice     85   Pass\n",
            "1      Bob     90   Pass\n",
            "2  Charlie     78   Fail\n"
          ]
        }
      ]
    },
    {
      "cell_type": "code",
      "source": [
        "# 7. Write a program to perform element-wise multiplication of two NumPy arrays.\n",
        "\n",
        "import numpy as np\n",
        "\n",
        "# Define two NumPy arrays\n",
        "array1 = np.array([2, 4, 6, 8])\n",
        "array2 = np.array([1, 3, 5, 7])\n",
        "\n",
        "# Perform element-wise multiplication\n",
        "result = array1 * array2\n",
        "\n",
        "# Display the result\n",
        "print(\"Array 1:\", array1)\n",
        "print(\"Array 2:\", array2)\n",
        "print(\"Element-wise Multiplication:\", result)"
      ],
      "metadata": {
        "colab": {
          "base_uri": "https://localhost:8080/"
        },
        "id": "c8MuY9dbzzTo",
        "outputId": "9c2aaf62-dd8d-4c3b-e2eb-975c68368c45"
      },
      "execution_count": 7,
      "outputs": [
        {
          "output_type": "stream",
          "name": "stdout",
          "text": [
            "Array 1: [2 4 6 8]\n",
            "Array 2: [1 3 5 7]\n",
            "Element-wise Multiplication: [ 2 12 30 56]\n"
          ]
        }
      ]
    },
    {
      "cell_type": "code",
      "source": [
        "# 8. Create a line plot with multiple lines using Matplotlib.\n",
        "\n",
        "import matplotlib.pyplot as plt\n",
        "\n",
        "# Sample data\n",
        "x = [1, 2, 3, 4, 5]\n",
        "y1 = [2, 4, 6, 8, 10]\n",
        "y2 = [1, 3, 5, 7, 9]\n",
        "y3 = [5, 7, 2, 4, 6]\n",
        "\n",
        "# Create a line plot with multiple lines\n",
        "plt.plot(x, y1, label='Line 1', color='blue', marker='o')\n",
        "plt.plot(x, y2, label='Line 2', color='green', marker='s')\n",
        "plt.plot(x, y3, label='Line 3', color='red', marker='^')\n",
        "\n",
        "# Add title and labels\n",
        "plt.title(\"Line Plot with Multiple Lines\")\n",
        "plt.xlabel(\"X-axis\")\n",
        "plt.ylabel(\"Y-axis\")\n",
        "\n",
        "# Show legend\n",
        "plt.legend()\n",
        "\n",
        "# Display the plot\n",
        "plt.grid(True)\n",
        "plt.show()"
      ],
      "metadata": {
        "colab": {
          "base_uri": "https://localhost:8080/",
          "height": 472
        },
        "id": "hUnRc1KM0B3L",
        "outputId": "74bbbc53-d0ea-4e4d-aa28-b1361614b67a"
      },
      "execution_count": 8,
      "outputs": [
        {
          "output_type": "display_data",
          "data": {
            "text/plain": [
              "<Figure size 640x480 with 1 Axes>"
            ],
            "image/png": "[encoded data removed]"
          },
          "metadata": {}
        }
      ]
    },
    {
      "cell_type": "code",
      "source": [
        "# 9. Generate a Pandas DataFrame and filter rows where a column value is greater than a threshold.\n",
        "\n",
        "import pandas as pd\n",
        "\n",
        "# Create a DataFrame\n",
        "data = {\n",
        "    'Name': ['Alice', 'Bob', 'Charlie', 'David', 'Eva'],\n",
        "    'Score': [85, 62, 90, 45, 78]\n",
        "}\n",
        "\n",
        "df = pd.DataFrame(data)\n",
        "\n",
        "# Set threshold\n",
        "threshold = 70\n",
        "\n",
        "# Filter rows where 'Score' is greater than the threshold\n",
        "filtered_df = df[df['Score'] > threshold]\n",
        "\n",
        "# Display the filtered DataFrame\n",
        "print(\"Students with score greater than\", threshold)\n",
        "print(filtered_df)"
      ],
      "metadata": {
        "colab": {
          "base_uri": "https://localhost:8080/"
        },
        "id": "qsAX5JX60Uq_",
        "outputId": "4a2d769e-657b-461f-911b-eb25c4f03e5e"
      },
      "execution_count": 9,
      "outputs": [
        {
          "output_type": "stream",
          "name": "stdout",
          "text": [
            "Students with score greater than 70\n",
            "      Name  Score\n",
            "0    Alice     85\n",
            "2  Charlie     90\n",
            "4      Eva     78\n"
          ]
        }
      ]
    },
    {
      "cell_type": "code",
      "source": [
        "# 10. Create a histogram using Seaborn to visualize a distribution.\n",
        "\n",
        "import seaborn as sns\n",
        "import matplotlib.pyplot as plt\n",
        "\n",
        "# Sample data: test scores of students\n",
        "scores = [55, 60, 65, 70, 72, 75, 75, 78, 80, 82, 85, 88, 90, 92, 95, 98, 100]\n",
        "\n",
        "# Create a histogram\n",
        "sns.histplot(scores, bins=10, kde=True, color='skyblue')\n",
        "\n",
        "# Add titles and labels\n",
        "plt.title(\"Distribution of Test Scores\")\n",
        "plt.xlabel(\"Scores\")\n",
        "plt.ylabel(\"Frequency\")\n",
        "\n",
        "# Show the plot\n",
        "plt.show()"
      ],
      "metadata": {
        "colab": {
          "base_uri": "https://localhost:8080/",
          "height": 472
        },
        "id": "VsCnzrMD0i9o",
        "outputId": "3a2bb122-77df-4a44-9695-070eb4f4ea05"
      },
      "execution_count": 10,
      "outputs": [
        {
          "output_type": "display_data",
          "data": {
            "text/plain": [
              "<Figure size 640x480 with 1 Axes>"
            ],
            "image/png": "[encoded data removed]"
          },
          "metadata": {}
        }
      ]
    },
    {
      "cell_type": "code",
      "source": [
        "# 11. Perform matrix multiplication using NumPy.\n",
        "\n",
        "import numpy as np\n",
        "\n",
        "# Define two matrices\n",
        "A = np.array([[1, 2],\n",
        "              [3, 4]])\n",
        "\n",
        "B = np.array([[5, 6],\n",
        "              [7, 8]])\n",
        "\n",
        "# Perform matrix multiplication\n",
        "result = np.dot(A, B)\n",
        "\n",
        "# Print the result\n",
        "print(\"Matrix A:\")\n",
        "print(A)\n",
        "\n",
        "print(\"\\nMatrix B:\")\n",
        "print(B)\n",
        "\n",
        "print(\"\\nMatrix Multiplication Result (A x B):\")\n",
        "print(result)"
      ],
      "metadata": {
        "colab": {
          "base_uri": "https://localhost:8080/"
        },
        "id": "KV8lmVdG00Wh",
        "outputId": "8ca47137-2c98-467e-e988-38e4c33d8166"
      },
      "execution_count": 11,
      "outputs": [
        {
          "output_type": "stream",
          "name": "stdout",
          "text": [
            "Matrix A:\n",
            "[[1 2]\n",
            " [3 4]]\n",
            "\n",
            "Matrix B:\n",
            "[[5 6]\n",
            " [7 8]]\n",
            "\n",
            "Matrix Multiplication Result (A x B):\n",
            "[[19 22]\n",
            " [43 50]]\n"
          ]
        }
      ]
    },
    {
      "cell_type": "code",
      "metadata": {
        "colab": {
          "base_uri": "https://localhost:8080/"
        },
        "id": "e92f9498",
        "outputId": "503d0bf1-f473-4f79-ddd2-db60b99f9be0"
      },
      "source": [
        "# 12. Use Pandas to load a CSV file and display its first 5 rows.\n",
        "\n",
        "import pandas as pd\n",
        "\n",
        "# Sample data\n",
        "data = {'col1': [1, 2, 3, 4],\n",
        "        'col2': ['A', 'B', 'C', 'D'],\n",
        "        'col3': [True, False, True, False]}\n",
        "\n",
        "# Create a DataFrame\n",
        "df_sample = pd.DataFrame(data)\n",
        "\n",
        "# Save the DataFrame to a CSV file\n",
        "df_sample.to_csv('sample.csv', index=False)\n",
        "\n",
        "print(\"CSV file 'sample.csv' created successfully.\")"
      ],
      "execution_count": 14,
      "outputs": [
        {
          "output_type": "stream",
          "name": "stdout",
          "text": [
            "CSV file 'sample.csv' created successfully.\n"
          ]
        }
      ]
    },
    {
      "cell_type": "code",
      "metadata": {
        "colab": {
          "base_uri": "https://localhost:8080/"
        },
        "id": "100b480e",
        "outputId": "fec94ff3-a58a-4541-cf5e-683b14cdead8"
      },
      "source": [
        "import pandas as pd\n",
        "\n",
        "# Load the CSV file\n",
        "df_loaded = pd.read_csv('sample.csv')  # Use the created sample.csv file\n",
        "\n",
        "# Display the first 5 rows\n",
        "print(df_loaded.head())"
      ],
      "execution_count": 15,
      "outputs": [
        {
          "output_type": "stream",
          "name": "stdout",
          "text": [
            "   col1 col2   col3\n",
            "0     1    A   True\n",
            "1     2    B  False\n",
            "2     3    C   True\n",
            "3     4    D  False\n"
          ]
        }
      ]
    },
    {
      "cell_type": "code",
      "source": [
        "# 13. Create a 3D scatter plot using Plotly.\n",
        "\n",
        "import plotly.graph_objects as go\n",
        "\n",
        "# Sample data\n",
        "x = [1, 2, 3, 4, 5]\n",
        "y = [10, 11, 12, 13, 14]\n",
        "z = [5, 4, 3, 2, 1]\n",
        "\n",
        "# Create a 3D scatter plot\n",
        "fig = go.Figure(data=[go.Scatter3d(\n",
        "    x=x,\n",
        "    y=y,\n",
        "    z=z,\n",
        "    mode='markers',\n",
        "    marker=dict(\n",
        "        size=8,\n",
        "        color=z,                # set color to the z values\n",
        "        colorscale='Viridis',  # color theme\n",
        "        opacity=0.8\n",
        "    )\n",
        ")])\n",
        "\n",
        "# Set layout options\n",
        "fig.update_layout(\n",
        "    scene=dict(\n",
        "        xaxis_title='X Axis',\n",
        "        yaxis_title='Y Axis',\n",
        "        zaxis_title='Z Axis'\n",
        "    ),\n",
        "    title='3D Scatter Plot Example'\n",
        ")\n",
        "\n",
        "# Show the plot\n",
        "fig.show()"
      ],
      "metadata": {
        "colab": {
          "base_uri": "https://localhost:8080/",
          "height": 542
        },
        "id": "6L4z3yNXA5KU",
        "outputId": "aac0bb87-f40a-410b-d2a5-b926ae117709"
      },
      "execution_count": 16,
      "outputs": [
        {
          "output_type": "display_data",
          "data": {
            "text/html": [
              "<html>\n",
              "<head><meta charset=\"utf-8\" /></head>\n",
              "<body>\n",
              "    <div>            <script src=\"https://cdnjs.cloudflare.com/ajax/libs/mathjax/2.7.5/MathJax.js?config=TeX-AMS-MML_SVG\"></script><script type=\"text/javascript\">if (window.MathJax && window.MathJax.Hub && window.MathJax.Hub.Config) {window.MathJax.Hub.Config({SVG: {font: \"STIX-Web\"}});}</script>                <script type=\"text/javascript\">window.PlotlyConfig = {MathJaxConfig: 'local'};</script>\n",
              "        <script charset=\"utf-8\" src=\"https://cdn.plot.ly/plotly-2.35.2.min.js\"></script>                <div id=\"f0b4123e-4a0d-42d5-9e0f-3331b5de3b34\" class=\"plotly-graph-div\" style=\"height:525px; width:100%;\"></div>            <script type=\"text/javascript\">                                    window.PLOTLYENV=window.PLOTLYENV || {};                                    if (document.getElementById(\"f0b4123e-4a0d-42d5-9e0f-3331b5de3b34\")) {                    Plotly.newPlot(                        \"f0b4123e-4a0d-42d5-9e0f-3331b5de3b34\",                        [{\"marker\":{\"color\":[5,4,3,2,1],\"colorscale\":[[0.0,\"#440154\"],[0.1111111111111111,\"#482878\"],[0.2222222222222222,\"#3e4989\"],[0.3333333333333333,\"#31688e\"],[0.4444444444444444,\"#26828e\"],[0.5555555555555556,\"#1f9e89\"],[0.6666666666666666,\"#35b779\"],[0.7777777777777778,\"#6ece58\"],[0.8888888888888888,\"#b5de2b\"],[1.0,\"#fde725\"]],\"opacity\":0.8,\"size\":8},\"mode\":\"markers\",\"x\":[1,2,3,4,5],\"y\":[10,11,12,13,14],\"z\":[5,4,3,2,1],\"type\":\"scatter3d\"}],                        {\"template\":{\"data\":{\"histogram2dcontour\":[{\"type\":\"histogram2dcontour\",\"colorbar\":{\"outlinewidth\":0,\"ticks\":\"\"},\"colorscale\":[[0.0,\"#0d0887\"],[0.1111111111111111,\"#46039f\"],[0.2222222222222222,\"#7201a8\"],[0.3333333333333333,\"#9c179e\"],[0.4444444444444444,\"#bd3786\"],[0.5555555555555556,\"#d8576b\"],[0.6666666666666666,\"#ed7953\"],[0.7777777777777778,\"#fb9f3a\"],[0.8888888888888888,\"#fdca26\"],[1.0,\"#f0f921\"]]}],\"choropleth\":[{\"type\":\"choropleth\",\"colorbar\":{\"outlinewidth\":0,\"ticks\":\"\"}}],\"histogram2d\":[{\"type\":\"histogram2d\",\"colorbar\":{\"outlinewidth\":0,\"ticks\":\"\"},\"colorscale\":[[0.0,\"#0d0887\"],[0.1111111111111111,\"#46039f\"],[0.2222222222222222,\"#7201a8\"],[0.3333333333333333,\"#9c179e\"],[0.4444444444444444,\"#bd3786\"],[0.5555555555555556,\"#d8576b\"],[0.6666666666666666,\"#ed7953\"],[0.7777777777777778,\"#fb9f3a\"],[0.8888888888888888,\"#fdca26\"],[1.0,\"#f0f921\"]]}],\"heatmap\":[{\"type\":\"heatmap\",\"colorbar\":{\"outlinewidth\":0,\"ticks\":\"\"},\"colorscale\":[[0.0,\"#0d0887\"],[0.1111111111111111,\"#46039f\"],[0.2222222222222222,\"#7201a8\"],[0.3333333333333333,\"#9c179e\"],[0.4444444444444444,\"#bd3786\"],[0.5555555555555556,\"#d8576b\"],[0.6666666666666666,\"#ed7953\"],[0.7777777777777778,\"#fb9f3a\"],[0.8888888888888888,\"#fdca26\"],[1.0,\"#f0f921\"]]}],\"heatmapgl\":[{\"type\":\"heatmapgl\",\"colorbar\":{\"outlinewidth\":0,\"ticks\":\"\"},\"colorscale\":[[0.0,\"#0d0887\"],[0.1111111111111111,\"#46039f\"],[0.2222222222222222,\"#7201a8\"],[0.3333333333333333,\"#9c179e\"],[0.4444444444444444,\"#bd3786\"],[0.5555555555555556,\"#d8576b\"],[0.6666666666666666,\"#ed7953\"],[0.7777777777777778,\"#fb9f3a\"],[0.8888888888888888,\"#fdca26\"],[1.0,\"#f0f921\"]]}],\"contourcarpet\":[{\"type\":\"contourcarpet\",\"colorbar\":{\"outlinewidth\":0,\"ticks\":\"\"}}],\"contour\":[{\"type\":\"contour\",\"colorbar\":{\"outlinewidth\":0,\"ticks\":\"\"},\"colorscale\":[[0.0,\"#0d0887\"],[0.1111111111111111,\"#46039f\"],[0.2222222222222222,\"#7201a8\"],[0.3333333333333333,\"#9c179e\"],[0.4444444444444444,\"#bd3786\"],[0.5555555555555556,\"#d8576b\"],[0.6666666666666666,\"#ed7953\"],[0.7777777777777778,\"#fb9f3a\"],[0.8888888888888888,\"#fdca26\"],[1.0,\"#f0f921\"]]}],\"surface\":[{\"type\":\"surface\",\"colorbar\":{\"outlinewidth\":0,\"ticks\":\"\"},\"colorscale\":[[0.0,\"#0d0887\"],[0.1111111111111111,\"#46039f\"],[0.2222222222222222,\"#7201a8\"],[0.3333333333333333,\"#9c179e\"],[0.4444444444444444,\"#bd3786\"],[0.5555555555555556,\"#d8576b\"],[0.6666666666666666,\"#ed7953\"],[0.7777777777777778,\"#fb9f3a\"],[0.8888888888888888,\"#fdca26\"],[1.0,\"#f0f921\"]]}],\"mesh3d\":[{\"type\":\"mesh3d\",\"colorbar\":{\"outlinewidth\":0,\"ticks\":\"\"}}],\"scatter\":[{\"fillpattern\":{\"fillmode\":\"overlay\",\"size\":10,\"solidity\":0.2},\"type\":\"scatter\"}],\"parcoords\":[{\"type\":\"parcoords\",\"line\":{\"colorbar\":{\"outlinewidth\":0,\"ticks\":\"\"}}}],\"scatterpolargl\":[{\"type\":\"scatterpolargl\",\"marker\":{\"colorbar\":{\"outlinewidth\":0,\"ticks\":\"\"}}}],\"bar\":[{\"error_x\":{\"color\":\"#2a3f5f\"},\"error_y\":{\"color\":\"#2a3f5f\"},\"marker\":{\"line\":{\"color\":\"#E5ECF6\",\"width\":0.5},\"pattern\":{\"fillmode\":\"overlay\",\"size\":10,\"solidity\":0.2}},\"type\":\"bar\"}],\"scattergeo\":[{\"type\":\"scattergeo\",\"marker\":{\"colorbar\":{\"outlinewidth\":0,\"ticks\":\"\"}}}],\"scatterpolar\":[{\"type\":\"scatterpolar\",\"marker\":{\"colorbar\":{\"outlinewidth\":0,\"ticks\":\"\"}}}],\"histogram\":[{\"marker\":{\"pattern\":{\"fillmode\":\"overlay\",\"size\":10,\"solidity\":0.2}},\"type\":\"histogram\"}],\"scattergl\":[{\"type\":\"scattergl\",\"marker\":{\"colorbar\":{\"outlinewidth\":0,\"ticks\":\"\"}}}],\"scatter3d\":[{\"type\":\"scatter3d\",\"line\":{\"colorbar\":{\"outlinewidth\":0,\"ticks\":\"\"}},\"marker\":{\"colorbar\":{\"outlinewidth\":0,\"ticks\":\"\"}}}],\"scattermapbox\":[{\"type\":\"scattermapbox\",\"marker\":{\"colorbar\":{\"outlinewidth\":0,\"ticks\":\"\"}}}],\"scatterternary\":[{\"type\":\"scatterternary\",\"marker\":{\"colorbar\":{\"outlinewidth\":0,\"ticks\":\"\"}}}],\"scattercarpet\":[{\"type\":\"scattercarpet\",\"marker\":{\"colorbar\":{\"outlinewidth\":0,\"ticks\":\"\"}}}],\"carpet\":[{\"aaxis\":{\"endlinecolor\":\"#2a3f5f\",\"gridcolor\":\"white\",\"linecolor\":\"white\",\"minorgridcolor\":\"white\",\"startlinecolor\":\"#2a3f5f\"},\"baxis\":{\"endlinecolor\":\"#2a3f5f\",\"gridcolor\":\"white\",\"linecolor\":\"white\",\"minorgridcolor\":\"white\",\"startlinecolor\":\"#2a3f5f\"},\"type\":\"carpet\"}],\"table\":[{\"cells\":{\"fill\":{\"color\":\"#EBF0F8\"},\"line\":{\"color\":\"white\"}},\"header\":{\"fill\":{\"color\":\"#C8D4E3\"},\"line\":{\"color\":\"white\"}},\"type\":\"table\"}],\"barpolar\":[{\"marker\":{\"line\":{\"color\":\"#E5ECF6\",\"width\":0.5},\"pattern\":{\"fillmode\":\"overlay\",\"size\":10,\"solidity\":0.2}},\"type\":\"barpolar\"}],\"pie\":[{\"automargin\":true,\"type\":\"pie\"}]},\"layout\":{\"autotypenumbers\":\"strict\",\"colorway\":[\"#636efa\",\"#EF553B\",\"#00cc96\",\"#ab63fa\",\"#FFA15A\",\"#19d3f3\",\"#FF6692\",\"#B6E880\",\"#FF97FF\",\"#FECB52\"],\"font\":{\"color\":\"#2a3f5f\"},\"hovermode\":\"closest\",\"hoverlabel\":{\"align\":\"left\"},\"paper_bgcolor\":\"white\",\"plot_bgcolor\":\"#E5ECF6\",\"polar\":{\"bgcolor\":\"#E5ECF6\",\"angularaxis\":{\"gridcolor\":\"white\",\"linecolor\":\"white\",\"ticks\":\"\"},\"radialaxis\":{\"gridcolor\":\"white\",\"linecolor\":\"white\",\"ticks\":\"\"}},\"ternary\":{\"bgcolor\":\"#E5ECF6\",\"aaxis\":{\"gridcolor\":\"white\",\"linecolor\":\"white\",\"ticks\":\"\"},\"baxis\":{\"gridcolor\":\"white\",\"linecolor\":\"white\",\"ticks\":\"\"},\"caxis\":{\"gridcolor\":\"white\",\"linecolor\":\"white\",\"ticks\":\"\"}},\"coloraxis\":{\"colorbar\":{\"outlinewidth\":0,\"ticks\":\"\"}},\"colorscale\":{\"sequential\":[[0.0,\"#0d0887\"],[0.1111111111111111,\"#46039f\"],[0.2222222222222222,\"#7201a8\"],[0.3333333333333333,\"#9c179e\"],[0.4444444444444444,\"#bd3786\"],[0.5555555555555556,\"#d8576b\"],[0.6666666666666666,\"#ed7953\"],[0.7777777777777778,\"#fb9f3a\"],[0.8888888888888888,\"#fdca26\"],[1.0,\"#f0f921\"]],\"sequentialminus\":[[0.0,\"#0d0887\"],[0.1111111111111111,\"#46039f\"],[0.2222222222222222,\"#7201a8\"],[0.3333333333333333,\"#9c179e\"],[0.4444444444444444,\"#bd3786\"],[0.5555555555555556,\"#d8576b\"],[0.6666666666666666,\"#ed7953\"],[0.7777777777777778,\"#fb9f3a\"],[0.8888888888888888,\"#fdca26\"],[1.0,\"#f0f921\"]],\"diverging\":[[0,\"#8e0152\"],[0.1,\"#c51b7d\"],[0.2,\"#de77ae\"],[0.3,\"#f1b6da\"],[0.4,\"#fde0ef\"],[0.5,\"#f7f7f7\"],[0.6,\"#e6f5d0\"],[0.7,\"#b8e186\"],[0.8,\"#7fbc41\"],[0.9,\"#4d9221\"],[1,\"#276419\"]]},\"xaxis\":{\"gridcolor\":\"white\",\"linecolor\":\"white\",\"ticks\":\"\",\"title\":{\"standoff\":15},\"zerolinecolor\":\"white\",\"automargin\":true,\"zerolinewidth\":2},\"yaxis\":{\"gridcolor\":\"white\",\"linecolor\":\"white\",\"ticks\":\"\",\"title\":{\"standoff\":15},\"zerolinecolor\":\"white\",\"automargin\":true,\"zerolinewidth\":2},\"scene\":{\"xaxis\":{\"backgroundcolor\":\"#E5ECF6\",\"gridcolor\":\"white\",\"linecolor\":\"white\",\"showbackground\":true,\"ticks\":\"\",\"zerolinecolor\":\"white\",\"gridwidth\":2},\"yaxis\":{\"backgroundcolor\":\"#E5ECF6\",\"gridcolor\":\"white\",\"linecolor\":\"white\",\"showbackground\":true,\"ticks\":\"\",\"zerolinecolor\":\"white\",\"gridwidth\":2},\"zaxis\":{\"backgroundcolor\":\"#E5ECF6\",\"gridcolor\":\"white\",\"linecolor\":\"white\",\"showbackground\":true,\"ticks\":\"\",\"zerolinecolor\":\"white\",\"gridwidth\":2}},\"shapedefaults\":{\"line\":{\"color\":\"#2a3f5f\"}},\"annotationdefaults\":{\"arrowcolor\":\"#2a3f5f\",\"arrowhead\":0,\"arrowwidth\":1},\"geo\":{\"bgcolor\":\"white\",\"landcolor\":\"#E5ECF6\",\"subunitcolor\":\"white\",\"showland\":true,\"showlakes\":true,\"lakecolor\":\"white\"},\"title\":{\"x\":0.05},\"mapbox\":{\"style\":\"light\"}}},\"scene\":{\"xaxis\":{\"title\":{\"text\":\"X Axis\"}},\"yaxis\":{\"title\":{\"text\":\"Y Axis\"}},\"zaxis\":{\"title\":{\"text\":\"Z Axis\"}}},\"title\":{\"text\":\"3D Scatter Plot Example\"}},                        {\"responsive\": true}                    ).then(function(){\n",
              "                            \n",
              "var gd = document.getElementById('f0b4123e-4a0d-42d5-9e0f-3331b5de3b34');\n",
              "var x = new MutationObserver(function (mutations, observer) {{\n",
              "        var display = window.getComputedStyle(gd).display;\n",
              "        if (!display || display === 'none') {{\n",
              "            console.log([gd, 'removed!']);\n",
              "            Plotly.purge(gd);\n",
              "            observer.disconnect();\n",
              "        }}\n",
              "}});\n",
              "\n",
              "// Listen for the removal of the full notebook cells\n",
              "var notebookContainer = gd.closest('#notebook-container');\n",
              "if (notebookContainer) {{\n",
              "    x.observe(notebookContainer, {childList: true});\n",
              "}}\n",
              "\n",
              "// Listen for the clearing of the current output cell\n",
              "var outputEl = gd.closest('.output');\n",
              "if (outputEl) {{\n",
              "    x.observe(outputEl, {childList: true});\n",
              "}}\n",
              "\n",
              "                        })                };                            </script>        </div>\n",
              "</body>\n",
              "</html>"
            ]
          },
          "metadata": {}
        }
      ]
    },
    {
      "cell_type": "code",
      "source": [],
      "metadata": {
        "id": "FQ8v5tlZBFUD"
      },
      "execution_count": null,
      "outputs": []
    }
  ]
}